{
 "cells": [
  {
   "cell_type": "code",
   "execution_count": null,
   "metadata": {},
   "outputs": [],
   "source": [
    "#Ejercicio 1 - Utiliza operadores aritméticos\n",
    "#Variables para almacenar la distancia de los planetas\n",
    "distancia_tierra = 149597870 #km\n",
    "distancia_jupiter = 778547200 #km\n",
    "#Operaciones para determinar la distancia en Km y Millas\n",
    "distancia_entre_planetas = distancia_tierra - distancia_jupiter\n",
    "distancia_entre_planetas_millas = distancia_entre_planetas * 0.621\n",
    "#Mostrar los resultados\n",
    "print (abs(distancia_entre_planetas))\n",
    "print (abs(distancia_entre_planetas_millas))"
   ]
  },
  {
   "cell_type": "code",
   "execution_count": null,
   "metadata": {},
   "outputs": [],
   "source": [
    "#Ejercicio 2 - Convierte cadenas en números y usa valores absolutos\n",
    "#Lectura de los valores\n",
    "distancia_planeta1 = input('Ingrese la distancia 1: ')\n",
    "distancia_planeta2 = input ('Ingrese la distancia 2: ')\n",
    "#Convertir la entrada a número\n",
    "d1 = int (distancia_planeta1)\n",
    "d2 = int (distancia_planeta2)\n",
    "#Realizar el calculo y convertir a valor absoluto\n",
    "distancia_km = d2 - d1\n",
    "distancia_millas = distancia_km * 0.621\n",
    "print(abs(distancia_km))\n",
    "print(abs(distancia_millas))"
   ]
  }
 ],
 "metadata": {
  "interpreter": {
   "hash": "7300b9d55b90841b99980c6ee730eda186572711cb182c66b9b14ebd0c7c63cf"
  },
  "kernelspec": {
   "display_name": "Python 3.10.2 64-bit (system)",
   "language": "python",
   "name": "python3"
  },
  "language_info": {
   "codemirror_mode": {
    "name": "ipython",
    "version": 3
   },
   "file_extension": ".py",
   "mimetype": "text/x-python",
   "name": "python",
   "nbconvert_exporter": "python",
   "pygments_lexer": "ipython3",
   "version": "3.10.2"
  },
  "orig_nbformat": 4
 },
 "nbformat": 4,
 "nbformat_minor": 2
}
