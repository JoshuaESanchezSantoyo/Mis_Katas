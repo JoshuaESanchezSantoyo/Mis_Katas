{
 "cells": [
  {
   "cell_type": "code",
   "execution_count": null,
   "metadata": {},
   "outputs": [],
   "source": [
    "#Ejercicio 1: Transformar cadenas\n",
    "\n",
    "text = \"\"\"Interesting facts about the Moon. The Moon is Earth's only satellite. There are several interesting facts about the Moon and how it affects life here on Earth. \n",
    "On average, the Moon moves 4cm away from the Earth every year. This yearly drift is not significant enough to cause immediate effects on Earth. The highest daylight temperature of the Moon is 127 C.\"\"\"\n",
    "\n",
    "#Divide el texto en oraciones\n",
    "oraciones = text.split('.')\n",
    "oraciones\n",
    "\n",
    "#Define las palabras clave\n",
    "claves = [\"average\", \"temperature\", \"distance\"]\n",
    "\n",
    "#Bucle para imprimir solo datos sobre la Luna que estan relacionados a las palabras clave\n",
    "for oracion in oraciones:\n",
    "    for claves in claves:\n",
    "        if claves in oracion:\n",
    "            print(oracion)\n",
    "            break\n",
    "\n",
    "#Bucle para reemplazar la C por Celsius\n",
    "for oracion in oraciones:\n",
    "    for claves in claves:\n",
    "        if claves in oracion:\n",
    "            print(oracion.replace(' C',' Celsius'))\n",
    "            break"
   ]
  },
  {
   "cell_type": "code",
   "execution_count": null,
   "metadata": {},
   "outputs": [],
   "source": [
    "#Ejercicio 2: Formateando Cadenas\n",
    "#Datos para muestra 1\n",
    "name = \"Moon\"\n",
    "gravity = 0.00162 #in kms\n",
    "planet = \"Earth\"\n",
    "#Creación de titulo\n",
    "title = f'Gravity Facts about {name}'\n",
    "#Creación de los hechos\n",
    "facts_moon = f\"\"\"{'-'*144}\n",
    "Planet Name: {planet}\n",
    "Gravity on {name}: {gravity * 1000} m/s2\n",
    "\"\"\"\n",
    "#Unión de las cadenas\n",
    "template_one = f\"\"\"{title.title()}\n",
    "{facts_moon}\n",
    "\"\"\"\n",
    "print(template_one)\n",
    "#Datos de muestra 2\n",
    "planet_two = \"Mars\"\n",
    "gravity_two = 0.00143\n",
    "name_two = \"Ganymede\"\n",
    "\n",
    "#Comprobar la plantilla\n",
    "print(template_one)\n",
    "\n",
    "#Nueva platilla usando .format()\n",
    "template_two = \"\"\"\n",
    "Gravity Facts about {name_two}\n",
    "------------------------------------------------------------------------------------------------------------------------------------------------\n",
    "Planet Name: {planet_two}\n",
    "Gravity on {name_two}: {gravity_two} m/s2\n",
    "\"\"\"\n",
    "print(template_two.format(name_two = name_two, planet_two = planet_two, gravity_two = gravity_two))\n",
    "\n",
    "#Nueva plantilla con correción en la gravedad\n",
    "print(template_two.format(name_two = name_two, planet_two = planet_two, gravity_two = gravity_two * 1000))\n",
    "\n"
   ]
  }
 ],
 "metadata": {
  "interpreter": {
   "hash": "7300b9d55b90841b99980c6ee730eda186572711cb182c66b9b14ebd0c7c63cf"
  },
  "kernelspec": {
   "display_name": "Python 3.10.2 64-bit (system)",
   "language": "python",
   "name": "python3"
  },
  "language_info": {
   "codemirror_mode": {
    "name": "ipython",
    "version": 3
   },
   "file_extension": ".py",
   "mimetype": "text/x-python",
   "name": "python",
   "nbconvert_exporter": "python",
   "pygments_lexer": "ipython3",
   "version": "3.10.2"
  },
  "orig_nbformat": 4
 },
 "nbformat": 4,
 "nbformat_minor": 2
}
