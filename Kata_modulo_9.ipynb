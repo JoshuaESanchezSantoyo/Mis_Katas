{
 "cells": [
  {
   "cell_type": "code",
   "execution_count": null,
   "metadata": {},
   "outputs": [],
   "source": [
    "#Ejercicio: Uso de funciones en Python\n",
    "#Ejercicio 1: Trabajar con argumentos en funciones\n",
    "#Función para leer 3 tanques de combustible y muestre el promedio\n",
    "def compustible(tanque_principal, tanque_externo, tanque_de_reserva):\n",
    "    combustible_promedio = (tanque_principal + tanque_externo + tanque_de_reserva) / 3\n",
    "    return f\"\"\" Reporte:\n",
    "    Combustible promedio: {combustible_promedio}%\n",
    "    Tanque principal: {tanque_principal}%\n",
    "    Tanque externo: {tanque_externo}%\n",
    "    Tanque de reserva: {tanque_de_reserva}%\n",
    "    \"\"\"\n",
    "#Llamamos a la función que genera el reporte print(funcion(tanque1, tanque2, tanque3))\n",
    "print (compustible(50, 75, 80))\n",
    "#Función promedio\n",
    "def promedio(args):\n",
    "    total = sum(args)\n",
    "    numero_de_valores = len(args)\n",
    "    return total / numero_de_valores\n",
    "promedio([50, 75, 80])\n",
    "#Actualiza la función\n",
    "def compustible_actulizado(tanque_principal, tanque_externo, tanque_de_reserva):\n",
    "    return f\"\"\" Reporte:\n",
    "    Combustible promedio: {promedio([tanque_principal, tanque_externo, tanque_de_reserva])}%\n",
    "    Tanque principal: {tanque_principal}%\n",
    "    Tanque externo: {tanque_externo}%\n",
    "    Tanque de reserva: {tanque_de_reserva}%\n",
    "    \"\"\"\n",
    "print (compustible_actulizado(50,75,90))"
   ]
  },
  {
   "cell_type": "code",
   "execution_count": null,
   "metadata": {},
   "outputs": [],
   "source": [
    "#Ejercicio 2: Trabajo con argumentos de palabra clave\n",
    "#Ejercicio: Trabajar con argumentos de palabras clave en funciones\n",
    "#Función con un informe preciso de la misión. Considera hora de prelanzamiento, tiempo de vuelo, destino, tanque externo y tanque interno\n",
    "def reporte_de_mision(prelanzamiento, tiempo_de_vuelo, destino, tanque_externo, tanque_interno):\n",
    "    return f\"\"\"\n",
    "    Destino de la misión {destino}\n",
    "    Tiempo total de viaje: {prelanzamiento + tiempo_de_vuelo} minutos\n",
    "    Total del combustible: {tanque_interno + tanque_externo} litros\n",
    "    \"\"\"\n",
    "print (reporte_de_mision(100, 1000, 'Marte', 450000, 300000))\n",
    "#Escribe tu nueva función de reporte considerando lo anterior\n",
    "def nuevo_reporte_de_mision(destino, *minutos, **reservas_totales):\n",
    "    return f\"\"\"\n",
    "    Destino de la misión {destino}\n",
    "    Tiempo total de viaje {sum(minutos)} minutos\n",
    "    Total del combustible: {sum(reservas_totales.values())} litros\n",
    "    \"\"\"\n",
    "print (nuevo_reporte_de_mision(\"Luna\", 100, 60, 200, principal = 450000, externo = 150000))\n",
    "#Escribe tu nueva función\n",
    "def reporte_de_mision_actualizado(destino, *minutos, **reservas_totales):\n",
    "    reporte_inicial = f\"\"\"\n",
    "    Destino de la misión {destino}\n",
    "    Tiempo total de viaje {sum(minutos)} minutos\n",
    "    Total del combustible: {sum(reservas_totales.values())} litros\n",
    "    \"\"\"\n",
    "    for nombre_del_tanque, litros in reservas_totales.items():\n",
    "        reporte_inicial += f\"{nombre_del_tanque} tanque ---> {litros} litros\\n\"\n",
    "    return reporte_inicial\n",
    "print (reporte_de_mision_actualizado(\"Saturno\", 100, 450, 200, principal = 450000, externo = 500000))"
   ]
  }
 ],
 "metadata": {
  "interpreter": {
   "hash": "7300b9d55b90841b99980c6ee730eda186572711cb182c66b9b14ebd0c7c63cf"
  },
  "kernelspec": {
   "display_name": "Python 3.10.2 64-bit (system)",
   "language": "python",
   "name": "python3"
  },
  "language_info": {
   "codemirror_mode": {
    "name": "ipython",
    "version": 3
   },
   "file_extension": ".py",
   "mimetype": "text/x-python",
   "name": "python",
   "nbconvert_exporter": "python",
   "pygments_lexer": "ipython3",
   "version": "3.10.2"
  },
  "orig_nbformat": 4
 },
 "nbformat": 4,
 "nbformat_minor": 2
}
