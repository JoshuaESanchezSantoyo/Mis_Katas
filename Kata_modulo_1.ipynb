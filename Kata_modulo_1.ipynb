{
 "cells": [
  {
   "cell_type": "code",
   "execution_count": null,
   "metadata": {},
   "outputs": [],
   "source": [
    "#El primer programa\n",
    "#Crear un programa que muestre la fecha del día\n",
    "from datetime import date\n",
    "date.today()\n",
    "print(\"Today's date is: \" + str(date.today()))"
   ]
  },
  {
   "cell_type": "code",
   "execution_count": null,
   "metadata": {},
   "outputs": [],
   "source": [
    "#Construir un convertidor de unidades\n",
    "#Crear un programa que convierta de persecs a años luz\n",
    "persec = 11\n",
    "lightyears = 3.26156 * persec\n",
    "print(str(persec) + \"persec, is \" + str(lightyears) + \" lightyears\")"
   ]
  }
 ],
 "metadata": {
  "interpreter": {
   "hash": "7300b9d55b90841b99980c6ee730eda186572711cb182c66b9b14ebd0c7c63cf"
  },
  "kernelspec": {
   "display_name": "Python 3.10.2 64-bit (system)",
   "language": "python",
   "name": "python3"
  },
  "language_info": {
   "codemirror_mode": {
    "name": "ipython",
    "version": 3
   },
   "file_extension": ".py",
   "mimetype": "text/x-python",
   "name": "python",
   "nbconvert_exporter": "python",
   "pygments_lexer": "ipython3",
   "version": "3.10.2"
  },
  "orig_nbformat": 4
 },
 "nbformat": 4,
 "nbformat_minor": 2
}
