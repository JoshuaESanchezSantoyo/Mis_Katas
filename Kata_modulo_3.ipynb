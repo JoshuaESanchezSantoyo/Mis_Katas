{
 "cells": [
  {
   "cell_type": "code",
   "execution_count": null,
   "metadata": {},
   "outputs": [],
   "source": [
    "#Ejercicio-Escribir declaraciones if, else, y elif\n",
    "#Problema 1\n",
    "asteroide = 49\n",
    "velocidad_de_advertencia = 25\n",
    "if asteroide > velocidad_de_advertencia:\n",
    "    print(\"¡Alerta!¡Un asteroide se acerca a gran velocidad!\")\n",
    "else:\n",
    "    print (\"Todo esta bien, parece que viviremos otro día :)\")"
   ]
  },
  {
   "cell_type": "code",
   "execution_count": null,
   "metadata": {},
   "outputs": [],
   "source": [
    "#Problema 2\n",
    "asteroide = 19\n",
    "rayo_luz = 20\n",
    "if asteroide > rayo_luz:\n",
    "    print(\"¡Mira arriba! ¡Hay una luz en el cielo!\")\n",
    "elif asteroide == rayo_luz:\n",
    "    print (\"¡Mira arriba! ¡Hay una luz en el cielo!\")\n",
    "else:\n",
    "    print (\"¡Nada nuevo que ver!\")"
   ]
  },
  {
   "cell_type": "code",
   "execution_count": null,
   "metadata": {},
   "outputs": [],
   "source": [
    "#Ejercicio: Uso de operadores and y or\n",
    "velocidad_asteroide = 25\n",
    "tamano_asteroide = 40\n",
    "if velocidad_asteroide > 25 and tamano_asteroide > 25:\n",
    "    print (\"¡Alerta! Se acerca un asteroide muy peligroso contra la Tierra\")  \n",
    "elif velocidad_asteroide >= 20:\n",
    "    print (\"¡Mira arriba! ¡Hay una luz en el cielo!\")\n",
    "elif tamano_asteroide < 25:\n",
    "    print (\"¡Nada nuevo que ver!\")\n",
    "else:\n",
    "    print (\"Nada nuevo :)\")\n"
   ]
  }
 ],
 "metadata": {
  "interpreter": {
   "hash": "7300b9d55b90841b99980c6ee730eda186572711cb182c66b9b14ebd0c7c63cf"
  },
  "kernelspec": {
   "display_name": "Python 3.10.2 64-bit (system)",
   "language": "python",
   "name": "python3"
  },
  "language_info": {
   "codemirror_mode": {
    "name": "ipython",
    "version": 3
   },
   "file_extension": ".py",
   "mimetype": "text/x-python",
   "name": "python",
   "nbconvert_exporter": "python",
   "pygments_lexer": "ipython3",
   "version": "3.10.2"
  },
  "orig_nbformat": 4
 },
 "nbformat": 4,
 "nbformat_minor": 2
}
