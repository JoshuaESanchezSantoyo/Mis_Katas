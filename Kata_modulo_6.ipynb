{
 "cells": [
  {
   "cell_type": "code",
   "execution_count": null,
   "metadata": {},
   "outputs": [],
   "source": [
    "#Ejercicio 1: Crear y usar listas de Python.\n",
    "#Crear la lista y mostarla.\n",
    "planets = ['Mercurio', 'Venus', 'Tierra', 'Marte', 'Jupiter', 'Saturno', 'Urano', 'Neptuno']\n",
    "print ('Hay ', len(planets), ' en el sistema solar')\n",
    "#Agregar pluton a la lista y mostrar el ultimo elemnto de la lista\n",
    "planets.append ('Pluton')\n",
    "print ('El ultimo planeta es', planets[-1])"
   ]
  },
  {
   "cell_type": "code",
   "execution_count": null,
   "metadata": {},
   "outputs": [],
   "source": [
    "#Ejercicio 2: Trabajando con datos de una lista\n",
    "#Lista de planetas\n",
    "planets = ['Mercurio', 'Venus', 'Tierra', 'Marte', 'Jupiter', 'Saturno', 'Urano', 'Neptuno']\n",
    "planeta_de_referencia = input ('Ingresa el nombre que deseas buscar, recuerda usar la mayusula al inicio: (Por ejemplo: Jupiter)')\n",
    "#Buscar el planeta\n",
    "index_de_referencia = planets.index (planeta_de_referencia)\n",
    "#Mostrar los planetas mas cercanos al sol\n",
    "planetas_cercanos_al_sol = planets[0 : index_de_referencia]\n",
    "print ('Los planetas mas cercanos del sol son:', planetas_cercanos_al_sol)\n",
    "#Mostrar los planetas mas lejanos al sol\n",
    "planetas_lejanos_al_sol = planets[index_de_referencia + 1 :]\n",
    "print (' Los planetas mas lejanos del sol son:', planetas_lejanos_al_sol)"
   ]
  }
 ],
 "metadata": {
  "interpreter": {
   "hash": "7300b9d55b90841b99980c6ee730eda186572711cb182c66b9b14ebd0c7c63cf"
  },
  "kernelspec": {
   "display_name": "Python 3.10.2 64-bit (system)",
   "language": "python",
   "name": "python3"
  },
  "language_info": {
   "codemirror_mode": {
    "name": "ipython",
    "version": 3
   },
   "file_extension": ".py",
   "mimetype": "text/x-python",
   "name": "python",
   "nbconvert_exporter": "python",
   "pygments_lexer": "ipython3",
   "version": "3.10.2"
  },
  "orig_nbformat": 4
 },
 "nbformat": 4,
 "nbformat_minor": 2
}
