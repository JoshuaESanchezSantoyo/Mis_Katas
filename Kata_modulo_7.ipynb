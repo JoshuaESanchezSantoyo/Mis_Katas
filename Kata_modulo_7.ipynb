{
 "cells": [
  {
   "cell_type": "code",
   "execution_count": null,
   "metadata": {},
   "outputs": [],
   "source": [
    "#Ejercicio 1: Creación de un buble \"while\"\n",
    "#Declaración de variables\n",
    "new_planet = ''\n",
    "planets = []\n",
    "#Escribe el ciclo while solicitado\n",
    "while new_planet.lower() != 'listo':\n",
    "    if new_planet == \"Mercurio\" or new_planet == \"Venus\" or new_planet == \"Tierra\" or new_planet == \"Marte\" or new_planet == \"Saturno\" or new_planet == \"Jupiter\" or new_planet == \"Urano\" or new_planet == \"Neptuno\":\n",
    "        planets.append(new_planet)\n",
    "    new_planet = input(\"Ingrese el nombre de un planeta o escriba 'listo' para terminar\")\n",
    "#Ejercicio 2: Creación de un ciclo \"for\"\n",
    "#Escribe un ciclo for para iterar en una lista de planetas\n",
    "for planet in planets:\n",
    "    print(planet)"
   ]
  }
 ],
 "metadata": {
  "interpreter": {
   "hash": "7300b9d55b90841b99980c6ee730eda186572711cb182c66b9b14ebd0c7c63cf"
  },
  "kernelspec": {
   "display_name": "Python 3.10.2 64-bit (system)",
   "language": "python",
   "name": "python3"
  },
  "language_info": {
   "codemirror_mode": {
    "name": "ipython",
    "version": 3
   },
   "file_extension": ".py",
   "mimetype": "text/x-python",
   "name": "python",
   "nbconvert_exporter": "python",
   "pygments_lexer": "ipython3",
   "version": "3.10.2"
  },
  "orig_nbformat": 4
 },
 "nbformat": 4,
 "nbformat_minor": 2
}
